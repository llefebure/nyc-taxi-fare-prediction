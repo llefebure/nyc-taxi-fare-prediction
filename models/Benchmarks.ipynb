{
 "cells": [
  {
   "cell_type": "markdown",
   "metadata": {},
   "source": [
    "# Benchmark Stats\n",
    "\n",
    "This notebook walks through some benchmark models trained on a subset of the training data."
   ]
  },
  {
   "cell_type": "code",
   "execution_count": 6,
   "metadata": {},
   "outputs": [],
   "source": [
    "import pandas as pd\n",
    "import numpy as np\n",
    "from sklearn.ensemble import RandomForestRegressor\n",
    "from sklearn.linear_model import LinearRegression\n",
    "from sklearn.metrics import mean_squared_error"
   ]
  },
  {
   "cell_type": "code",
   "execution_count": 7,
   "metadata": {},
   "outputs": [],
   "source": [
    "dtypes = {\n",
    "  'year': 'str',\n",
    "  'month': 'str',\n",
    "  'hour': 'str',\n",
    "  'dow': 'str',\n",
    "  'same_pickup_dropoff': 'str',\n",
    "  'pickup_latitude_quantile': 'str',\n",
    "  'pickup_longitude_quantile': 'str',\n",
    "  'dropoff_latitude_quantile': 'str',\n",
    "  'dropoff_longitude_quantile': 'str',\n",
    "  'pickup_jfk': 'str',\n",
    "  'dropoff_jfk': 'str'\n",
    "}\n",
    "train = pd.read_csv('data/train.csv', nrows=2000000, dtype=dtypes)\n",
    "dev = pd.read_csv('data/dev.csv', dtype=dtypes)"
   ]
  },
  {
   "cell_type": "markdown",
   "metadata": {},
   "source": [
    "## Summary\n",
    "\n",
    "| Model | Features | RMSE on Validation Data |\n",
    "|-------|----------|-------------------------|\n",
    "| Linear Regression | distance, duration | 5.34 |\n",
    "| Linear Regression | distance, duration, time, bearing | 5.06 |\n",
    "| Random Forest (n=100) | distance, duration, time, bearing, coordinates | 3.79 |"
   ]
  },
  {
   "cell_type": "markdown",
   "metadata": {},
   "source": [
    "## Linear Regression"
   ]
  },
  {
   "cell_type": "code",
   "execution_count": 3,
   "metadata": {},
   "outputs": [],
   "source": [
    "def evaluate_linear_model(train, dev, features):\n",
    "  lm = LinearRegression()\n",
    "  lm.fit(pd.get_dummies(train[features]), train['fare_amount'])\n",
    "  print 'RMSE: ', np.sqrt(mean_squared_error(lm.predict(pd.get_dummies(dev[features])), dev['fare_amount']))\n",
    "  return lm"
   ]
  },
  {
   "cell_type": "code",
   "execution_count": 4,
   "metadata": {},
   "outputs": [
    {
     "name": "stdout",
     "output_type": "stream",
     "text": [
      "RMSE:  5.343056553857415\n"
     ]
    },
    {
     "data": {
      "text/plain": [
       "LinearRegression(copy_X=True, fit_intercept=True, n_jobs=1, normalize=False)"
      ]
     },
     "execution_count": 4,
     "metadata": {},
     "output_type": "execute_result"
    }
   ],
   "source": [
    "evaluate_linear_model(train, dev, ['distance', 'duration'])"
   ]
  },
  {
   "cell_type": "code",
   "execution_count": 5,
   "metadata": {},
   "outputs": [
    {
     "name": "stdout",
     "output_type": "stream",
     "text": [
      "RMSE:  5.064299869090713\n"
     ]
    },
    {
     "data": {
      "text/plain": [
       "LinearRegression(copy_X=True, fit_intercept=True, n_jobs=1, normalize=False)"
      ]
     },
     "execution_count": 5,
     "metadata": {},
     "output_type": "execute_result"
    }
   ],
   "source": [
    "evaluate_linear_model(train, dev, ['distance', 'duration', 'year', 'month', 'dow', 'hour', 'bearing_bucket'])"
   ]
  },
  {
   "cell_type": "markdown",
   "metadata": {},
   "source": [
    "## Random Forest"
   ]
  },
  {
   "cell_type": "code",
   "execution_count": 29,
   "metadata": {},
   "outputs": [],
   "source": [
    "def haversine(lat1, lon1, lat2, lon2):\n",
    "  lat1, lon1, lat2, lon2 = map(np.radians, [lat1, lon1, lat2, lon2])\n",
    "  dlat = lat2 - lat1\n",
    "  dlon = lon2 - lon1\n",
    "  a = np.sin(dlat/2)**2 + np.cos(lat1) * np.cos(lat2) * np.sin(dlon/2)**2\n",
    "  c = 2 * np.arcsin(np.sqrt(a)) \n",
    "  r = 6.371 * 10**6\n",
    "  return c * r\n",
    "\n",
    "def add_hav(df):\n",
    "  df['haversine'] = haversine(\n",
    "    df['pickup_latitude'], df['pickup_longitude'], df['dropoff_latitude'], df['dropoff_longitude'])\n",
    "\n",
    "add_hav(train)\n",
    "add_hav(dev)"
   ]
  },
  {
   "cell_type": "code",
   "execution_count": 22,
   "metadata": {},
   "outputs": [],
   "source": [
    "def evaluate_random_forest(train, dev, features, encode_time_features=False):\n",
    "  # Note that sklearn RF requires that categorical features be one hot encoded, so we\n",
    "  # have to decide whether to encode the time features or leave them as continuous.\n",
    "  rf = RandomForestRegressor(n_estimators=100, n_jobs=-1)\n",
    "  dummies = None\n",
    "  if not encode_time_features and 'bearing_bucket' in features:\n",
    "    dummies = ['bearing_bucket']\n",
    "  rf.fit(pd.get_dummies(train[features], columns=dummies), train['fare_amount'])\n",
    "  print 'RMSE: ', np.sqrt(mean_squared_error(rf.predict(pd.get_dummies(dev[features], columns=dummies)), dev['fare_amount']))\n",
    "  return rf"
   ]
  },
  {
   "cell_type": "code",
   "execution_count": 23,
   "metadata": {},
   "outputs": [
    {
     "name": "stdout",
     "output_type": "stream",
     "text": [
      "RMSE:  3.7924545161052747\n"
     ]
    },
    {
     "data": {
      "text/plain": [
       "RandomForestRegressor(bootstrap=True, criterion='mse', max_depth=None,\n",
       "           max_features='auto', max_leaf_nodes=None,\n",
       "           min_impurity_decrease=0.0, min_impurity_split=None,\n",
       "           min_samples_leaf=1, min_samples_split=2,\n",
       "           min_weight_fraction_leaf=0.0, n_estimators=100, n_jobs=-1,\n",
       "           oob_score=False, random_state=None, verbose=0, warm_start=False)"
      ]
     },
     "execution_count": 23,
     "metadata": {},
     "output_type": "execute_result"
    }
   ],
   "source": [
    "features = ['distance', 'duration', 'year', 'month', 'dow', 'hour', 'bearing_bucket',\n",
    "            'pickup_latitude', 'pickup_longitude', 'dropoff_latitude', 'dropoff_longitude']\n",
    "evaluate_random_forest(train, dev, features)"
   ]
  }
 ],
 "metadata": {
  "kernelspec": {
   "display_name": "Python 2",
   "language": "python",
   "name": "python2"
  },
  "language_info": {
   "codemirror_mode": {
    "name": "ipython",
    "version": 2
   },
   "file_extension": ".py",
   "mimetype": "text/x-python",
   "name": "python",
   "nbconvert_exporter": "python",
   "pygments_lexer": "ipython2",
   "version": "2.7.15"
  }
 },
 "nbformat": 4,
 "nbformat_minor": 2
}
