{
 "cells": [
  {
   "cell_type": "markdown",
   "metadata": {},
   "source": [
    "# Benchmark Stats\n",
    "\n",
    "This notebook walks through some benchmark models trained on a subset of the training data."
   ]
  },
  {
   "cell_type": "code",
   "execution_count": 1,
   "metadata": {},
   "outputs": [],
   "source": [
    "import pandas as pd\n",
    "import numpy as np\n",
    "from sklearn.ensemble import RandomForestRegressor\n",
    "from sklearn.linear_model import LinearRegression\n",
    "from sklearn.metrics import mean_squared_error"
   ]
  },
  {
   "cell_type": "code",
   "execution_count": 2,
   "metadata": {},
   "outputs": [],
   "source": [
    "dtypes = {\n",
    "  'year': 'str',\n",
    "  'month': 'str',\n",
    "  'hour': 'str',\n",
    "  'dow': 'str',\n",
    "  'same_pickup_dropoff': 'str',\n",
    "  'pickup_latitude_quantile': 'str',\n",
    "  'pickup_longitude_quantile': 'str',\n",
    "  'dropoff_latitude_quantile': 'str',\n",
    "  'dropoff_longitude_quantile': 'str',\n",
    "  'pickup_jfk': 'str',\n",
    "  'dropoff_jfk': 'str'\n",
    "}\n",
    "train = pd.read_csv('data/train.csv', nrows=2000000, dtype=dtypes)\n",
    "dev = pd.read_csv('data/dev.csv', dtype=dtypes)"
   ]
  },
  {
   "cell_type": "markdown",
   "metadata": {},
   "source": [
    "## Summary\n",
    "\n",
    "| Model | Features | RMSE on Validation Data |\n",
    "|-------|----------|-------------------------|\n",
    "| Linear Regression | distance, duration | 5.34 |\n",
    "| Linear Regression | distance, duration, time, bearing | 5.06 |\n",
    "| Random Forest | distance, duration, time, bearing | 4.33 |"
   ]
  },
  {
   "cell_type": "markdown",
   "metadata": {},
   "source": [
    "## Linear Regression"
   ]
  },
  {
   "cell_type": "code",
   "execution_count": 3,
   "metadata": {},
   "outputs": [],
   "source": [
    "def evaluate_linear_model(train, dev, features):\n",
    "  lm = LinearRegression()\n",
    "  lm.fit(pd.get_dummies(train[features]), train['fare_amount'])\n",
    "  print 'RMSE: ', np.sqrt(mean_squared_error(lm.predict(pd.get_dummies(dev[features])), dev['fare_amount']))\n",
    "  return lm"
   ]
  },
  {
   "cell_type": "code",
   "execution_count": 4,
   "metadata": {},
   "outputs": [
    {
     "name": "stdout",
     "output_type": "stream",
     "text": [
      "RMSE:  5.343056553857415\n"
     ]
    },
    {
     "data": {
      "text/plain": [
       "LinearRegression(copy_X=True, fit_intercept=True, n_jobs=1, normalize=False)"
      ]
     },
     "execution_count": 4,
     "metadata": {},
     "output_type": "execute_result"
    }
   ],
   "source": [
    "evaluate_linear_model(train, dev, ['distance', 'duration'])"
   ]
  },
  {
   "cell_type": "code",
   "execution_count": 5,
   "metadata": {},
   "outputs": [
    {
     "name": "stdout",
     "output_type": "stream",
     "text": [
      "RMSE:  5.064299869090713\n"
     ]
    },
    {
     "data": {
      "text/plain": [
       "LinearRegression(copy_X=True, fit_intercept=True, n_jobs=1, normalize=False)"
      ]
     },
     "execution_count": 5,
     "metadata": {},
     "output_type": "execute_result"
    }
   ],
   "source": [
    "evaluate_linear_model(train, dev, ['distance', 'duration', 'year', 'month', 'dow', 'hour', 'bearing_bucket'])"
   ]
  },
  {
   "cell_type": "markdown",
   "metadata": {},
   "source": [
    "## Random Forest"
   ]
  },
  {
   "cell_type": "code",
   "execution_count": 54,
   "metadata": {},
   "outputs": [],
   "source": [
    "def evaluate_random_forest(train, dev, features):\n",
    "  # note that sklearn RF requires that categorical features be one hot encoded\n",
    "  rf = RandomForestRegressor(n_estimators=100, n_jobs=-1)\n",
    "  rf.fit(pd.get_dummies(train[features]), train['fare_amount'])\n",
    "  print 'RMSE: ', np.sqrt(mean_squared_error(rf.predict(pd.get_dummies(dev[features])), dev['fare_amount']))\n",
    "  return rf"
   ]
  },
  {
   "cell_type": "code",
   "execution_count": 55,
   "metadata": {},
   "outputs": [
    {
     "name": "stdout",
     "output_type": "stream",
     "text": [
      "RMSE:  4.326312533071899\n"
     ]
    },
    {
     "data": {
      "text/plain": [
       "RandomForestRegressor(bootstrap=True, criterion='mse', max_depth=None,\n",
       "           max_features='auto', max_leaf_nodes=None,\n",
       "           min_impurity_decrease=0.0, min_impurity_split=None,\n",
       "           min_samples_leaf=1, min_samples_split=2,\n",
       "           min_weight_fraction_leaf=0.0, n_estimators=100, n_jobs=-1,\n",
       "           oob_score=False, random_state=None, verbose=0, warm_start=False)"
      ]
     },
     "execution_count": 55,
     "metadata": {},
     "output_type": "execute_result"
    }
   ],
   "source": [
    "evaluate_random_forest(train, dev, ['distance', 'duration', 'year', 'month', 'dow', 'hour', 'bearing_bucket'])"
   ]
  }
 ],
 "metadata": {
  "kernelspec": {
   "display_name": "Python 2",
   "language": "python",
   "name": "python2"
  },
  "language_info": {
   "codemirror_mode": {
    "name": "ipython",
    "version": 2
   },
   "file_extension": ".py",
   "mimetype": "text/x-python",
   "name": "python",
   "nbconvert_exporter": "python",
   "pygments_lexer": "ipython2",
   "version": "2.7.15"
  }
 },
 "nbformat": 4,
 "nbformat_minor": 2
}
