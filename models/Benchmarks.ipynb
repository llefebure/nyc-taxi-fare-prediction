{
 "cells": [
  {
   "cell_type": "markdown",
   "metadata": {},
   "source": [
    "# Benchmark Stats\n",
    "\n",
    "This notebook walks through some benchmark models trained on a subset of the training data."
   ]
  },
  {
   "cell_type": "code",
   "execution_count": 1,
   "metadata": {},
   "outputs": [
    {
     "name": "stderr",
     "output_type": "stream",
     "text": [
      "/home/lukelefebure/env/nyc/lib/python3.5/site-packages/sklearn/ensemble/weight_boosting.py:29: DeprecationWarning: numpy.core.umath_tests is an internal NumPy module and should not be imported. It will be removed in a future NumPy release.\n",
      "  from numpy.core.umath_tests import inner1d\n"
     ]
    }
   ],
   "source": [
    "import pandas as pd\n",
    "import dask.dataframe as dd\n",
    "import numpy as np\n",
    "import gcsfs\n",
    "from sklearn.ensemble import RandomForestRegressor\n",
    "from sklearn.linear_model import LinearRegression\n",
    "from sklearn.metrics import mean_squared_error"
   ]
  },
  {
   "cell_type": "code",
   "execution_count": 2,
   "metadata": {},
   "outputs": [],
   "source": [
    "dtypes = {\n",
    "    'year': 'str',\n",
    "    'month': 'str',\n",
    "    'hour': 'str',\n",
    "    'dow': 'str',\n",
    "    'same_pickup_dropoff': 'str',\n",
    "    'pickup_latitude_quantile': 'str',\n",
    "    'pickup_longitude_quantile': 'str',\n",
    "    'dropoff_latitude_quantile': 'str',\n",
    "    'dropoff_longitude_quantile': 'str',\n",
    "    'pickup_jfk': 'str',\n",
    "    'dropoff_jfk': 'str'\n",
    "}\n",
    "fs = gcsfs.GCSFileSystem(project='steadfast-mason-213717')\n",
    "with fs.open('nyc-taxi-fare-prediction-data/train.csv') as f:\n",
    "    train = pd.read_csv(f, dtype=dtypes, nrows=500000)\n",
    "dev = dd.read_csv('gs://nyc-taxi-fare-prediction-data/dev.csv', dtype=dtypes).compute()"
   ]
  },
  {
   "cell_type": "markdown",
   "metadata": {},
   "source": [
    "## Summary\n",
    "\n",
    "| Model | Features | RMSE on Validation Data |\n",
    "|-------|----------|-------------------------|\n",
    "| Linear Regression | distance, duration | 5.21 |\n",
    "| Linear Regression | distance, duration, time, bearing | 4.93 |\n",
    "| Random Forest (n=100) | distance, duration, time, bearing, coordinates | 3.76 |"
   ]
  },
  {
   "cell_type": "markdown",
   "metadata": {},
   "source": [
    "## Linear Regression"
   ]
  },
  {
   "cell_type": "code",
   "execution_count": 3,
   "metadata": {},
   "outputs": [],
   "source": [
    "def evaluate_linear_model(train, dev, features):\n",
    "    lm = LinearRegression()\n",
    "    lm.fit(pd.get_dummies(train[features]), train['fare_amount'])\n",
    "    rmse = np.sqrt(mean_squared_error(\n",
    "        lm.predict(pd.get_dummies(dev[features])), dev['fare_amount']))\n",
    "    print('RMSE: ', rmse)\n",
    "    return lm"
   ]
  },
  {
   "cell_type": "code",
   "execution_count": 4,
   "metadata": {},
   "outputs": [
    {
     "name": "stdout",
     "output_type": "stream",
     "text": [
      "RMSE:  5.206930525895996\n"
     ]
    },
    {
     "data": {
      "text/plain": [
       "LinearRegression(copy_X=True, fit_intercept=True, n_jobs=1, normalize=False)"
      ]
     },
     "execution_count": 4,
     "metadata": {},
     "output_type": "execute_result"
    }
   ],
   "source": [
    "evaluate_linear_model(train, dev, ['distance', 'duration'])"
   ]
  },
  {
   "cell_type": "code",
   "execution_count": 5,
   "metadata": {},
   "outputs": [
    {
     "name": "stdout",
     "output_type": "stream",
     "text": [
      "RMSE:  4.928565470076604\n"
     ]
    },
    {
     "data": {
      "text/plain": [
       "LinearRegression(copy_X=True, fit_intercept=True, n_jobs=1, normalize=False)"
      ]
     },
     "execution_count": 5,
     "metadata": {},
     "output_type": "execute_result"
    }
   ],
   "source": [
    "evaluate_linear_model(\n",
    "    train, dev, ['distance', 'duration', 'year', 'month', 'dow', 'hour', 'bearing_bucket'])"
   ]
  },
  {
   "cell_type": "markdown",
   "metadata": {},
   "source": [
    "## Random Forest"
   ]
  },
  {
   "cell_type": "code",
   "execution_count": 6,
   "metadata": {},
   "outputs": [],
   "source": [
    "def evaluate_random_forest(train, dev, features, encode_time_features=False):\n",
    "    # Note that sklearn RF requires that categorical features be one hot encoded, so we\n",
    "    # have to decide whether to encode the time features or leave them as continuous.\n",
    "    rf = RandomForestRegressor(n_estimators=50, n_jobs=-1)\n",
    "    dummies = None\n",
    "    if not encode_time_features and 'bearing_bucket' in features:\n",
    "        dummies = ['bearing_bucket']\n",
    "    rf.fit(pd.get_dummies(train[features], columns=dummies), train['fare_amount'])\n",
    "    rmse = np.sqrt(mean_squared_error(\n",
    "        rf.predict(pd.get_dummies(dev[features], columns=dummies)), dev['fare_amount']))\n",
    "    print('RMSE: ', rmse)\n",
    "    return rf"
   ]
  },
  {
   "cell_type": "code",
   "execution_count": 7,
   "metadata": {},
   "outputs": [
    {
     "name": "stdout",
     "output_type": "stream",
     "text": [
      "RMSE:  3.763728701297432\n"
     ]
    },
    {
     "data": {
      "text/plain": [
       "RandomForestRegressor(bootstrap=True, criterion='mse', max_depth=None,\n",
       "           max_features='auto', max_leaf_nodes=None,\n",
       "           min_impurity_decrease=0.0, min_impurity_split=None,\n",
       "           min_samples_leaf=1, min_samples_split=2,\n",
       "           min_weight_fraction_leaf=0.0, n_estimators=50, n_jobs=-1,\n",
       "           oob_score=False, random_state=None, verbose=0, warm_start=False)"
      ]
     },
     "execution_count": 7,
     "metadata": {},
     "output_type": "execute_result"
    }
   ],
   "source": [
    "features = ['distance', 'duration', 'year', 'month', 'dow', 'hour', 'bearing_bucket',\n",
    "            'pickup_latitude', 'pickup_longitude', 'dropoff_latitude', 'dropoff_longitude']\n",
    "evaluate_random_forest(train, dev, features)"
   ]
  }
 ],
 "metadata": {
  "kernelspec": {
   "display_name": "nyc",
   "language": "python",
   "name": "nyc"
  },
  "language_info": {
   "codemirror_mode": {
    "name": "ipython",
    "version": 3
   },
   "file_extension": ".py",
   "mimetype": "text/x-python",
   "name": "python",
   "nbconvert_exporter": "python",
   "pygments_lexer": "ipython3",
   "version": "3.5.3"
  }
 },
 "nbformat": 4,
 "nbformat_minor": 2
}
